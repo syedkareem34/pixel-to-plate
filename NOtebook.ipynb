{
 "cells": [
  {
   "cell_type": "code",
   "execution_count": 1,
   "metadata": {},
   "outputs": [],
   "source": [
    "import warnings\n",
    "warnings.filterwarnings('ignore')"
   ]
  },
  {
   "cell_type": "code",
   "execution_count": 2,
   "metadata": {},
   "outputs": [
    {
     "name": "stderr",
     "output_type": "stream",
     "text": [
      "Using TensorFlow backend.\n"
     ]
    }
   ],
   "source": [
    "import numpy as np\n",
    "import pandas as pd\n",
    "from Recipe import *\n",
    "import os\n",
    "import cv2\n",
    "from keras.utils.np_utils import to_categorical\n",
    "from keras.layers import  MaxPooling2D\n",
    "from keras.layers import Dense, Dropout, Activation, Flatten\n",
    "from keras.layers import Convolution2D\n",
    "from keras.models import Sequential\n",
    "from keras.models import model_from_json\n",
    "import pickle\n",
    "import ast\n",
    "import keras\n",
    "from keras import layers\n",
    "import tensorflow as tf\n"
   ]
  },
  {
   "cell_type": "code",
   "execution_count": 3,
   "metadata": {},
   "outputs": [],
   "source": [
    "global filename\n",
    "global classifier\n",
    "recipe_list = []\n",
    "global dataset"
   ]
  },
  {
   "cell_type": "code",
   "execution_count": 4,
   "metadata": {},
   "outputs": [],
   "source": [
    "dataset = pd.read_csv('Dataset/core-data_recipe.csv',nrows=1000)"
   ]
  },
  {
   "cell_type": "code",
   "execution_count": 6,
   "metadata": {},
   "outputs": [
    {
     "name": "stdout",
     "output_type": "stream",
     "text": [
      "indian chai hot chocolate\n"
     ]
    }
   ],
   "source": [
    "for i in range(len(dataset)):\n",
    "    r_id = dataset._get_value(i, 'recipe_id')\n",
    "    r_name = dataset._get_value(i, 'recipe_name')\n",
    "    ingredients = dataset._get_value(i, 'ingredients')\n",
    "    nutritions = dataset._get_value(i, 'nutritions')\n",
    "    cooking = ast.literal_eval(dataset._get_value(i, 'cooking_directions')).get('directions')\n",
    "    r_name = r_name.strip().lower()\n",
    "    obj = Recipe()\n",
    "    obj.setRecipeID(r_id)\n",
    "    obj.setName(r_name)\n",
    "    obj.setIngredients(ingredients)\n",
    "    obj.setNutritions(nutritions)\n",
    "    obj.setCooking(cooking)\n",
    "    recipe_list.append(obj)\n",
    "indian = np.load('index.txt.npy',allow_pickle=True)\n",
    "for i in range(len(indian)):\n",
    "    recipe_list.append(indian[i])\n",
    "obj = recipe_list[len(recipe_list)-1]\n",
    "print(obj.getName())"
   ]
  },
  {
   "cell_type": "code",
   "execution_count": 7,
   "metadata": {},
   "outputs": [],
   "source": [
    "encoding_dim = 32\n",
    "X_train = np.load('model/X.txt.npy')\n",
    "Y_train = np.load('model/Y.txt.npy')\n",
    "X = X_train.reshape(X_train.shape[0],(64 * 64 * 3))"
   ]
  },
  {
   "cell_type": "code",
   "execution_count": 8,
   "metadata": {},
   "outputs": [
    {
     "name": "stdout",
     "output_type": "stream",
     "text": [
      "(5625, 12288)\n"
     ]
    }
   ],
   "source": [
    "print(X.shape)"
   ]
  },
  {
   "cell_type": "markdown",
   "metadata": {},
   "source": [
    "# Autoencoder CNN"
   ]
  },
  {
   "cell_type": "code",
   "execution_count": 14,
   "metadata": {},
   "outputs": [],
   "source": [
    "input_img = keras.Input(shape=(X.shape[1],))\n",
    "encoded = layers.Dense(encoding_dim, activation='relu')(input_img)\n",
    "decoded = layers.Dense(Y_train.shape[1], activation='softmax')(encoded)\n",
    "autoencoder = keras.Model(input_img, decoded)\n",
    "encoder = keras.Model(input_img, encoded)\n",
    "encoded_input = keras.Input(shape=(encoding_dim,))\n",
    "decoder_layer = autoencoder.layers[-1]\n",
    "decoder = keras.Model(encoded_input, decoder_layer(encoded_input))\n",
    "autoencoder.compile(optimizer='adam', loss='binary_crossentropy')"
   ]
  },
  {
   "cell_type": "code",
   "execution_count": 16,
   "metadata": {},
   "outputs": [
    {
     "name": "stdout",
     "output_type": "stream",
     "text": [
      "Epoch 1/10\n",
      "704/704 - 1s - loss: 0.0071\n",
      "Epoch 2/10\n",
      "704/704 - 1s - loss: 0.0071\n",
      "Epoch 3/10\n",
      "704/704 - 1s - loss: 0.0071\n",
      "Epoch 4/10\n",
      "704/704 - 1s - loss: 0.0071\n",
      "Epoch 5/10\n",
      "704/704 - 1s - loss: 0.0071\n",
      "Epoch 6/10\n",
      "704/704 - 1s - loss: 0.0071\n",
      "Epoch 7/10\n",
      "704/704 - 1s - loss: 0.0071\n",
      "Epoch 8/10\n",
      "704/704 - 1s - loss: 0.0071\n",
      "Epoch 9/10\n",
      "704/704 - 1s - loss: 0.0071\n",
      "Epoch 10/10\n",
      "704/704 - 1s - loss: 0.0071\n"
     ]
    }
   ],
   "source": [
    "hist = autoencoder.fit(X, Y_train, batch_size=8, epochs=10, shuffle=True, verbose=2)"
   ]
  },
  {
   "cell_type": "code",
   "execution_count": 85,
   "metadata": {},
   "outputs": [],
   "source": [
    "val1 = 1 - hist.history['loss'][9]"
   ]
  },
  {
   "cell_type": "code",
   "execution_count": 18,
   "metadata": {},
   "outputs": [
    {
     "data": {
      "image/png": "[encoded data removed]",
      "text/plain": [
       "<Figure size 1440x720 with 1 Axes>"
      ]
     },
     "metadata": {
      "needs_background": "light"
     },
     "output_type": "display_data"
    }
   ],
   "source": [
    "import matplotlib.pyplot as plt\n",
    "\n",
    "x=hist\n",
    "plt.figure(figsize=(20,10))\n",
    "plt.subplot(1, 2, 1)\n",
    "plt.suptitle('Optimizer : adam', fontsize=10)\n",
    "plt.ylabel('Loss', fontsize=16)\n",
    "plt.plot(x.history['loss'], label='Training Loss')\n",
    "plt.show()"
   ]
  },
  {
   "cell_type": "markdown",
   "metadata": {},
   "source": [
    "# miniVGG"
   ]
  },
  {
   "cell_type": "code",
   "execution_count": 36,
   "metadata": {},
   "outputs": [],
   "source": [
    "import os\n",
    "import cv2\n",
    "import numpy as np\n",
    "from keras.utils.np_utils import to_categorical\n",
    "from keras.layers import  MaxPooling2D\n",
    "from keras.layers import Dense, Dropout, Activation, Flatten\n",
    "from keras.layers import Convolution2D\n",
    "from keras.models import Sequential\n",
    "from keras.models import model_from_json\n",
    "import pickle\n",
    "\n",
    "import keras\n",
    "from keras import layers\n"
   ]
  },
  {
   "cell_type": "code",
   "execution_count": 37,
   "metadata": {},
   "outputs": [
    {
     "name": "stdout",
     "output_type": "stream",
     "text": [
      "[[0. 0. 0. ... 0. 0. 0.]\n",
      " [0. 0. 0. ... 0. 0. 0.]\n",
      " [0. 0. 0. ... 0. 0. 0.]\n",
      " ...\n",
      " [0. 0. 0. ... 0. 0. 0.]\n",
      " [0. 0. 0. ... 0. 0. 0.]\n",
      " [0. 0. 0. ... 0. 0. 0.]]\n"
     ]
    }
   ],
   "source": [
    "X_train = np.load('model/X.txt.npy')\n",
    "Y_train = np.load('model/Y.txt.npy')\n",
    "print(Y_train)"
   ]
  },
  {
   "cell_type": "code",
   "execution_count": 42,
   "metadata": {},
   "outputs": [
    {
     "name": "stdout",
     "output_type": "stream",
     "text": [
      "Model: \"sequential_7\"\n",
      "_________________________________________________________________\n",
      "Layer (type)                 Output Shape              Param #   \n",
      "=================================================================\n",
      "conv2d_11 (Conv2D)           (None, 21, 21, 32)        896       \n",
      "_________________________________________________________________\n",
      "max_pooling2d_8 (MaxPooling2 (None, 10, 10, 32)        0         \n",
      "_________________________________________________________________\n",
      "conv2d_12 (Conv2D)           (None, 3, 3, 32)          9248      \n",
      "_________________________________________________________________\n",
      "max_pooling2d_9 (MaxPooling2 (None, 1, 1, 32)          0         \n",
      "_________________________________________________________________\n",
      "flatten_1 (Flatten)          (None, 32)                0         \n",
      "_________________________________________________________________\n",
      "dense_8 (Dense)              (None, 256)               8448      \n",
      "_________________________________________________________________\n",
      "dense_9 (Dense)              (None, 1126)              289382    \n",
      "=================================================================\n",
      "Total params: 307,974\n",
      "Trainable params: 307,974\n",
      "Non-trainable params: 0\n",
      "_________________________________________________________________\n",
      "None\n"
     ]
    }
   ],
   "source": [
    "classifier = Sequential()\n",
    "classifier.add(Convolution2D(32, 3, 3, input_shape = (64, 64, 3), activation = 'relu'))\n",
    "classifier.add(MaxPooling2D(pool_size = (2, 2)))\n",
    "classifier.add(Convolution2D(32, 3, 3, activation = 'relu'))\n",
    "classifier.add(MaxPooling2D(pool_size = (2, 2)))\n",
    "classifier.add(Flatten())\n",
    "classifier.add(Dense(units = 256, activation = 'relu'))\n",
    "classifier.add(Dense(units = Y_train.shape[1], activation = 'softmax'))\n",
    "print(classifier.summary())\n",
    "classifier.compile(optimizer = 'adam', loss = 'categorical_crossentropy', metrics = ['accuracy'])"
   ]
  },
  {
   "cell_type": "code",
   "execution_count": 43,
   "metadata": {},
   "outputs": [
    {
     "name": "stdout",
     "output_type": "stream",
     "text": [
      "Epoch 1/10\n",
      "WARNING:tensorflow:AutoGraph could not transform <function Model.make_train_function.<locals>.train_function at 0x000001E212467CA8> and will run it as-is.\n",
      "Please report this to the TensorFlow team. When filing the bug, set the verbosity to 10 (on Linux, `export AUTOGRAPH_VERBOSITY=10`) and attach the full output.\n",
      "Cause: 'arguments' object has no attribute 'posonlyargs'\n",
      "To silence this warning, decorate the function with @tf.autograph.experimental.do_not_convert\n",
      "WARNING: AutoGraph could not transform <function Model.make_train_function.<locals>.train_function at 0x000001E212467CA8> and will run it as-is.\n",
      "Please report this to the TensorFlow team. When filing the bug, set the verbosity to 10 (on Linux, `export AUTOGRAPH_VERBOSITY=10`) and attach the full output.\n",
      "Cause: 'arguments' object has no attribute 'posonlyargs'\n",
      "To silence this warning, decorate the function with @tf.autograph.experimental.do_not_convert\n",
      "352/352 - 1s - loss: 6.9964 - accuracy: 0.0000e+00\n",
      "Epoch 2/10\n",
      "352/352 - 1s - loss: 4.7054 - accuracy: 0.1552\n",
      "Epoch 3/10\n",
      "352/352 - 1s - loss: 0.9580 - accuracy: 0.7604\n",
      "Epoch 4/10\n",
      "352/352 - 1s - loss: 0.2480 - accuracy: 0.9394\n",
      "Epoch 5/10\n",
      "352/352 - 1s - loss: 0.1017 - accuracy: 0.9787\n",
      "Epoch 6/10\n",
      "352/352 - 1s - loss: 0.0613 - accuracy: 0.9876\n",
      "Epoch 7/10\n",
      "352/352 - 1s - loss: 0.1118 - accuracy: 0.9760\n",
      "Epoch 8/10\n",
      "352/352 - 1s - loss: 0.1218 - accuracy: 0.9712\n",
      "Epoch 9/10\n",
      "352/352 - 1s - loss: 0.1053 - accuracy: 0.9742\n",
      "Epoch 10/10\n",
      "352/352 - 1s - loss: 0.0294 - accuracy: 0.9940\n"
     ]
    }
   ],
   "source": [
    "hist1 = classifier.fit(X_train, Y_train, batch_size=16, epochs=10, shuffle=True, verbose=2)"
   ]
  },
  {
   "cell_type": "code",
   "execution_count": 95,
   "metadata": {},
   "outputs": [],
   "source": [
    "val2 = hist1.history['accuracy'][9]"
   ]
  },
  {
   "cell_type": "code",
   "execution_count": 45,
   "metadata": {},
   "outputs": [
    {
     "data": {
      "image/png": "[encoded data removed]",
      "text/plain": [
       "<Figure size 1440x720 with 1 Axes>"
      ]
     },
     "metadata": {
      "needs_background": "light"
     },
     "output_type": "display_data"
    }
   ],
   "source": [
    "import matplotlib.pyplot as plt\n",
    "\n",
    "x=hist1\n",
    "plt.figure(figsize=(20,10))\n",
    "plt.subplot(1, 2, 1)\n",
    "plt.suptitle('Optimizer : adam', fontsize=10)\n",
    "plt.ylabel('Loss', fontsize=16)\n",
    "plt.plot(x.history['loss'], label='Training Loss')\n",
    "plt.plot(x.history['accuracy'], label='Training Accuracy')\n",
    "plt.show()"
   ]
  },
  {
   "cell_type": "markdown",
   "metadata": {},
   "source": [
    "# miniGoogleNet"
   ]
  },
  {
   "cell_type": "code",
   "execution_count": 56,
   "metadata": {},
   "outputs": [],
   "source": [
    "def inceptionblock():\n",
    "    \n",
    "    model = Sequential()\n",
    "    model.add(Convolution2D(32, 3, 3, input_shape = (64, 64, 3), activation = 'relu'))\n",
    "    model.add(MaxPooling2D(pool_size = (2, 2)))\n",
    "    model.add(Convolution2D(32, 3, 3, activation = 'relu'))\n",
    "    model.add(MaxPooling2D(pool_size = (2, 2)))\n",
    "    model.add(Flatten())\n",
    "    model.add(Dense(units = 256, activation = 'relu'))\n",
    "    model.add(Dense(units = Y_train.shape[1], activation = 'softmax'))\n",
    "    \n",
    "    return model\n"
   ]
  },
  {
   "cell_type": "code",
   "execution_count": 59,
   "metadata": {},
   "outputs": [
    {
     "name": "stdout",
     "output_type": "stream",
     "text": [
      "Model: \"sequential_10\"\n",
      "_________________________________________________________________\n",
      "Layer (type)                 Output Shape              Param #   \n",
      "=================================================================\n",
      "conv2d_13 (Conv2D)           (None, 21, 21, 32)        896       \n",
      "_________________________________________________________________\n",
      "max_pooling2d_10 (MaxPooling (None, 10, 10, 32)        0         \n",
      "_________________________________________________________________\n",
      "conv2d_14 (Conv2D)           (None, 3, 3, 32)          9248      \n",
      "_________________________________________________________________\n",
      "max_pooling2d_11 (MaxPooling (None, 1, 1, 32)          0         \n",
      "_________________________________________________________________\n",
      "flatten_2 (Flatten)          (None, 32)                0         \n",
      "_________________________________________________________________\n",
      "dense_12 (Dense)             (None, 256)               8448      \n",
      "_________________________________________________________________\n",
      "dense_13 (Dense)             (None, 1126)              289382    \n",
      "=================================================================\n",
      "Total params: 307,974\n",
      "Trainable params: 307,974\n",
      "Non-trainable params: 0\n",
      "_________________________________________________________________\n",
      "None\n"
     ]
    }
   ],
   "source": [
    "model = inceptionblock()\n",
    "print(model.summary())\n",
    "model.compile(optimizer = 'adam', loss = 'binary_crossentropy', metrics = ['accuracy'])"
   ]
  },
  {
   "cell_type": "code",
   "execution_count": 60,
   "metadata": {},
   "outputs": [
    {
     "name": "stdout",
     "output_type": "stream",
     "text": [
      "Epoch 1/10\n",
      "WARNING:tensorflow:AutoGraph could not transform <function Model.make_train_function.<locals>.train_function at 0x000001E21B54E5E8> and will run it as-is.\n",
      "Please report this to the TensorFlow team. When filing the bug, set the verbosity to 10 (on Linux, `export AUTOGRAPH_VERBOSITY=10`) and attach the full output.\n",
      "Cause: 'arguments' object has no attribute 'posonlyargs'\n",
      "To silence this warning, decorate the function with @tf.autograph.experimental.do_not_convert\n",
      "WARNING: AutoGraph could not transform <function Model.make_train_function.<locals>.train_function at 0x000001E21B54E5E8> and will run it as-is.\n",
      "Please report this to the TensorFlow team. When filing the bug, set the verbosity to 10 (on Linux, `export AUTOGRAPH_VERBOSITY=10`) and attach the full output.\n",
      "Cause: 'arguments' object has no attribute 'posonlyargs'\n",
      "To silence this warning, decorate the function with @tf.autograph.experimental.do_not_convert\n",
      "352/352 - 1s - loss: 0.0071 - accuracy: 0.0011\n",
      "Epoch 2/10\n",
      "352/352 - 1s - loss: 0.0068 - accuracy: 0.0060\n",
      "Epoch 3/10\n",
      "352/352 - 1s - loss: 0.0034 - accuracy: 0.3406\n",
      "Epoch 4/10\n",
      "352/352 - 1s - loss: 8.3511e-04 - accuracy: 0.8418\n",
      "Epoch 5/10\n",
      "352/352 - 1s - loss: 2.2700e-04 - accuracy: 0.9634\n",
      "Epoch 6/10\n",
      "352/352 - 1s - loss: 1.1135e-04 - accuracy: 0.9845\n",
      "Epoch 7/10\n",
      "352/352 - 1s - loss: 1.0811e-04 - accuracy: 0.9863\n",
      "Epoch 8/10\n",
      "352/352 - 1s - loss: 3.4867e-04 - accuracy: 0.9390\n",
      "Epoch 9/10\n",
      "352/352 - 1s - loss: 1.8868e-04 - accuracy: 0.9719\n",
      "Epoch 10/10\n",
      "352/352 - 1s - loss: 8.8926e-05 - accuracy: 0.9858\n"
     ]
    }
   ],
   "source": [
    "hist2 = model.fit(X_train, Y_train, batch_size=16, epochs=10, shuffle=True, verbose=2)"
   ]
  },
  {
   "cell_type": "code",
   "execution_count": 94,
   "metadata": {},
   "outputs": [],
   "source": [
    "val3 = hist2.history['accuracy'][9]"
   ]
  },
  {
   "cell_type": "code",
   "execution_count": 62,
   "metadata": {},
   "outputs": [
    {
     "data": {
      "image/png": "[encoded data removed]",
      "text/plain": [
       "<Figure size 1440x720 with 1 Axes>"
      ]
     },
     "metadata": {
      "needs_background": "light"
     },
     "output_type": "display_data"
    }
   ],
   "source": [
    "import matplotlib.pyplot as plt\n",
    "\n",
    "x=hist2\n",
    "plt.figure(figsize=(20,10))\n",
    "plt.subplot(1, 2, 1)\n",
    "plt.suptitle('Optimizer : adam', fontsize=10)\n",
    "plt.ylabel('Loss', fontsize=16)\n",
    "plt.plot(x.history['loss'], label='Training Loss')\n",
    "plt.plot(x.history['accuracy'], label='Training Accuracy')\n",
    "plt.show()"
   ]
  },
  {
   "cell_type": "markdown",
   "metadata": {},
   "source": [
    "# miniAlexNet"
   ]
  },
  {
   "cell_type": "code",
   "execution_count": 66,
   "metadata": {},
   "outputs": [],
   "source": [
    "model = Sequential()\n",
    "model.add(Convolution2D(32, 3, 3, input_shape = (64, 64, 3), activation = 'relu'))\n",
    "model.add(MaxPooling2D(pool_size = (2, 2)))\n",
    "model.add(Convolution2D(32, 3, 3, activation = 'relu'))\n",
    "model.add(MaxPooling2D(pool_size = (2, 2)))\n",
    "model.add(Convolution2D(filters = 16, kernel_size = (3,3),padding = 'Same', \n",
    "                 activation ='relu'))\n",
    "#model.add(MaxPooling2D(pool_size=(2,2), strides=(2,2)))\n",
    "model.add(Dropout(0.25))\n",
    "model.add(Flatten())\n",
    "model.add(Dense(units = 256, activation = 'relu'))\n",
    "model.add(Dense(units = Y_train.shape[1], activation = 'softmax'))\n"
   ]
  },
  {
   "cell_type": "code",
   "execution_count": 67,
   "metadata": {},
   "outputs": [
    {
     "name": "stdout",
     "output_type": "stream",
     "text": [
      "Model: \"sequential_14\"\n",
      "_________________________________________________________________\n",
      "Layer (type)                 Output Shape              Param #   \n",
      "=================================================================\n",
      "conv2d_23 (Conv2D)           (None, 21, 21, 32)        896       \n",
      "_________________________________________________________________\n",
      "max_pooling2d_19 (MaxPooling (None, 10, 10, 32)        0         \n",
      "_________________________________________________________________\n",
      "conv2d_24 (Conv2D)           (None, 3, 3, 32)          9248      \n",
      "_________________________________________________________________\n",
      "max_pooling2d_20 (MaxPooling (None, 1, 1, 32)          0         \n",
      "_________________________________________________________________\n",
      "conv2d_25 (Conv2D)           (None, 1, 1, 16)          4624      \n",
      "_________________________________________________________________\n",
      "dropout_2 (Dropout)          (None, 1, 1, 16)          0         \n",
      "_________________________________________________________________\n",
      "flatten_3 (Flatten)          (None, 16)                0         \n",
      "_________________________________________________________________\n",
      "dense_14 (Dense)             (None, 256)               4352      \n",
      "_________________________________________________________________\n",
      "dense_15 (Dense)             (None, 1126)              289382    \n",
      "=================================================================\n",
      "Total params: 308,502\n",
      "Trainable params: 308,502\n",
      "Non-trainable params: 0\n",
      "_________________________________________________________________\n",
      "None\n"
     ]
    }
   ],
   "source": [
    "print(model.summary())\n",
    "model.compile(optimizer = 'adam', loss = 'binary_crossentropy', metrics = ['accuracy'])"
   ]
  },
  {
   "cell_type": "code",
   "execution_count": 69,
   "metadata": {},
   "outputs": [
    {
     "name": "stdout",
     "output_type": "stream",
     "text": [
      "Epoch 1/100\n",
      "352/352 - 1s - loss: 0.0052 - accuracy: 0.0270\n",
      "Epoch 2/100\n",
      "352/352 - 1s - loss: 0.0051 - accuracy: 0.0382\n",
      "Epoch 3/100\n",
      "352/352 - 1s - loss: 0.0049 - accuracy: 0.0503\n",
      "Epoch 4/100\n",
      "352/352 - 1s - loss: 0.0048 - accuracy: 0.0649\n",
      "Epoch 5/100\n",
      "352/352 - 1s - loss: 0.0047 - accuracy: 0.0921\n",
      "Epoch 6/100\n",
      "352/352 - 1s - loss: 0.0046 - accuracy: 0.0985\n",
      "Epoch 7/100\n",
      "352/352 - 1s - loss: 0.0045 - accuracy: 0.1182\n",
      "Epoch 8/100\n",
      "352/352 - 1s - loss: 0.0043 - accuracy: 0.1426\n",
      "Epoch 9/100\n",
      "352/352 - 1s - loss: 0.0042 - accuracy: 0.1636\n",
      "Epoch 10/100\n",
      "352/352 - 1s - loss: 0.0041 - accuracy: 0.1721\n",
      "Epoch 11/100\n",
      "352/352 - 1s - loss: 0.0040 - accuracy: 0.2055\n",
      "Epoch 12/100\n",
      "352/352 - 1s - loss: 0.0039 - accuracy: 0.2265\n",
      "Epoch 13/100\n",
      "352/352 - 1s - loss: 0.0038 - accuracy: 0.2427\n",
      "Epoch 14/100\n",
      "352/352 - 1s - loss: 0.0037 - accuracy: 0.2587\n",
      "Epoch 15/100\n",
      "352/352 - 1s - loss: 0.0037 - accuracy: 0.2674\n",
      "Epoch 16/100\n",
      "352/352 - 1s - loss: 0.0035 - accuracy: 0.2964\n",
      "Epoch 17/100\n",
      "352/352 - 1s - loss: 0.0035 - accuracy: 0.3022\n",
      "Epoch 18/100\n",
      "352/352 - 1s - loss: 0.0034 - accuracy: 0.3182\n",
      "Epoch 19/100\n",
      "352/352 - 1s - loss: 0.0033 - accuracy: 0.3360\n",
      "Epoch 20/100\n",
      "352/352 - 1s - loss: 0.0032 - accuracy: 0.3554\n",
      "Epoch 21/100\n",
      "352/352 - 1s - loss: 0.0031 - accuracy: 0.3636\n",
      "Epoch 22/100\n",
      "352/352 - 1s - loss: 0.0031 - accuracy: 0.3692\n",
      "Epoch 23/100\n",
      "352/352 - 1s - loss: 0.0030 - accuracy: 0.3874\n",
      "Epoch 24/100\n",
      "352/352 - 1s - loss: 0.0029 - accuracy: 0.4030\n",
      "Epoch 25/100\n",
      "352/352 - 1s - loss: 0.0028 - accuracy: 0.4309\n",
      "Epoch 26/100\n",
      "352/352 - 1s - loss: 0.0027 - accuracy: 0.4322\n",
      "Epoch 27/100\n",
      "352/352 - 1s - loss: 0.0027 - accuracy: 0.4398\n",
      "Epoch 28/100\n",
      "352/352 - 1s - loss: 0.0027 - accuracy: 0.4514\n",
      "Epoch 29/100\n",
      "352/352 - 1s - loss: 0.0025 - accuracy: 0.4734\n",
      "Epoch 30/100\n",
      "352/352 - 1s - loss: 0.0026 - accuracy: 0.4740\n",
      "Epoch 31/100\n",
      "352/352 - 1s - loss: 0.0025 - accuracy: 0.4921\n",
      "Epoch 32/100\n",
      "352/352 - 1s - loss: 0.0024 - accuracy: 0.5020\n",
      "Epoch 33/100\n",
      "352/352 - 1s - loss: 0.0024 - accuracy: 0.5079\n",
      "Epoch 34/100\n",
      "352/352 - 1s - loss: 0.0024 - accuracy: 0.5061\n",
      "Epoch 35/100\n",
      "352/352 - 1s - loss: 0.0023 - accuracy: 0.5266\n",
      "Epoch 36/100\n",
      "352/352 - 1s - loss: 0.0023 - accuracy: 0.5324\n",
      "Epoch 37/100\n",
      "352/352 - 1s - loss: 0.0023 - accuracy: 0.5339\n",
      "Epoch 38/100\n",
      "352/352 - 1s - loss: 0.0022 - accuracy: 0.5413\n",
      "Epoch 39/100\n",
      "352/352 - 1s - loss: 0.0022 - accuracy: 0.5550\n",
      "Epoch 40/100\n",
      "352/352 - 1s - loss: 0.0021 - accuracy: 0.5627\n",
      "Epoch 41/100\n",
      "352/352 - 1s - loss: 0.0021 - accuracy: 0.5746\n",
      "Epoch 42/100\n",
      "352/352 - 1s - loss: 0.0021 - accuracy: 0.5822\n",
      "Epoch 43/100\n",
      "352/352 - 1s - loss: 0.0020 - accuracy: 0.5824\n",
      "Epoch 44/100\n",
      "352/352 - 1s - loss: 0.0020 - accuracy: 0.5847\n",
      "Epoch 45/100\n",
      "352/352 - 1s - loss: 0.0020 - accuracy: 0.5915\n",
      "Epoch 46/100\n",
      "352/352 - 1s - loss: 0.0020 - accuracy: 0.5927\n",
      "Epoch 47/100\n",
      "352/352 - 1s - loss: 0.0019 - accuracy: 0.6011\n",
      "Epoch 48/100\n",
      "352/352 - 1s - loss: 0.0019 - accuracy: 0.6114\n",
      "Epoch 49/100\n",
      "352/352 - 1s - loss: 0.0019 - accuracy: 0.6087\n",
      "Epoch 50/100\n",
      "352/352 - 1s - loss: 0.0019 - accuracy: 0.6219\n",
      "Epoch 51/100\n",
      "352/352 - 1s - loss: 0.0019 - accuracy: 0.6028\n",
      "Epoch 52/100\n",
      "352/352 - 1s - loss: 0.0019 - accuracy: 0.6156\n",
      "Epoch 53/100\n",
      "352/352 - 1s - loss: 0.0017 - accuracy: 0.6361\n",
      "Epoch 54/100\n",
      "352/352 - 1s - loss: 0.0018 - accuracy: 0.6299\n",
      "Epoch 55/100\n",
      "352/352 - 1s - loss: 0.0017 - accuracy: 0.6459\n",
      "Epoch 56/100\n",
      "352/352 - 1s - loss: 0.0017 - accuracy: 0.6416\n",
      "Epoch 57/100\n",
      "352/352 - 1s - loss: 0.0018 - accuracy: 0.6402\n",
      "Epoch 58/100\n",
      "352/352 - 1s - loss: 0.0017 - accuracy: 0.6501\n",
      "Epoch 59/100\n",
      "352/352 - 1s - loss: 0.0017 - accuracy: 0.6501\n",
      "Epoch 60/100\n",
      "352/352 - 1s - loss: 0.0017 - accuracy: 0.6498\n",
      "Epoch 61/100\n",
      "352/352 - 1s - loss: 0.0017 - accuracy: 0.6610\n",
      "Epoch 62/100\n",
      "352/352 - 1s - loss: 0.0016 - accuracy: 0.6651\n",
      "Epoch 63/100\n",
      "352/352 - 1s - loss: 0.0016 - accuracy: 0.6631\n",
      "Epoch 64/100\n",
      "352/352 - 1s - loss: 0.0016 - accuracy: 0.6679\n",
      "Epoch 65/100\n",
      "352/352 - 1s - loss: 0.0016 - accuracy: 0.6587\n",
      "Epoch 66/100\n",
      "352/352 - 1s - loss: 0.0016 - accuracy: 0.6684\n",
      "Epoch 67/100\n",
      "352/352 - 1s - loss: 0.0016 - accuracy: 0.6686\n",
      "Epoch 68/100\n",
      "352/352 - 1s - loss: 0.0016 - accuracy: 0.6663\n",
      "Epoch 69/100\n",
      "352/352 - 1s - loss: 0.0016 - accuracy: 0.6763\n",
      "Epoch 70/100\n",
      "352/352 - 1s - loss: 0.0015 - accuracy: 0.6786\n",
      "Epoch 71/100\n",
      "352/352 - 1s - loss: 0.0015 - accuracy: 0.6764\n",
      "Epoch 72/100\n",
      "352/352 - 1s - loss: 0.0015 - accuracy: 0.6866\n",
      "Epoch 73/100\n",
      "352/352 - 1s - loss: 0.0015 - accuracy: 0.6834\n",
      "Epoch 74/100\n",
      "352/352 - 1s - loss: 0.0015 - accuracy: 0.6983\n",
      "Epoch 75/100\n",
      "352/352 - 1s - loss: 0.0015 - accuracy: 0.6869\n",
      "Epoch 76/100\n",
      "352/352 - 1s - loss: 0.0015 - accuracy: 0.7003\n",
      "Epoch 77/100\n",
      "352/352 - 1s - loss: 0.0015 - accuracy: 0.6944\n",
      "Epoch 78/100\n",
      "352/352 - 1s - loss: 0.0015 - accuracy: 0.6956\n",
      "Epoch 79/100\n",
      "352/352 - 1s - loss: 0.0015 - accuracy: 0.6994\n",
      "Epoch 80/100\n",
      "352/352 - 1s - loss: 0.0014 - accuracy: 0.7033\n",
      "Epoch 81/100\n",
      "352/352 - 1s - loss: 0.0014 - accuracy: 0.7076\n",
      "Epoch 82/100\n",
      "352/352 - 1s - loss: 0.0015 - accuracy: 0.6926\n",
      "Epoch 83/100\n",
      "352/352 - 1s - loss: 0.0015 - accuracy: 0.7010\n",
      "Epoch 84/100\n",
      "352/352 - 1s - loss: 0.0014 - accuracy: 0.7026\n",
      "Epoch 85/100\n",
      "352/352 - 1s - loss: 0.0014 - accuracy: 0.7038\n",
      "Epoch 86/100\n",
      "352/352 - 1s - loss: 0.0013 - accuracy: 0.7289\n",
      "Epoch 87/100\n",
      "352/352 - 1s - loss: 0.0014 - accuracy: 0.7173\n",
      "Epoch 88/100\n",
      "352/352 - 1s - loss: 0.0014 - accuracy: 0.7072\n",
      "Epoch 89/100\n",
      "352/352 - 1s - loss: 0.0013 - accuracy: 0.7257\n",
      "Epoch 90/100\n",
      "352/352 - 1s - loss: 0.0014 - accuracy: 0.7173\n",
      "Epoch 91/100\n",
      "352/352 - 1s - loss: 0.0013 - accuracy: 0.7191\n",
      "Epoch 92/100\n",
      "352/352 - 1s - loss: 0.0013 - accuracy: 0.7257\n",
      "Epoch 93/100\n",
      "352/352 - 1s - loss: 0.0013 - accuracy: 0.7326\n",
      "Epoch 94/100\n",
      "352/352 - 1s - loss: 0.0013 - accuracy: 0.7362\n",
      "Epoch 95/100\n",
      "352/352 - 1s - loss: 0.0013 - accuracy: 0.7271\n",
      "Epoch 96/100\n",
      "352/352 - 1s - loss: 0.0013 - accuracy: 0.7292\n",
      "Epoch 97/100\n",
      "352/352 - 1s - loss: 0.0013 - accuracy: 0.7399\n",
      "Epoch 98/100\n",
      "352/352 - 1s - loss: 0.0013 - accuracy: 0.7264\n",
      "Epoch 99/100\n",
      "352/352 - 1s - loss: 0.0013 - accuracy: 0.7268\n",
      "Epoch 100/100\n",
      "352/352 - 1s - loss: 0.0013 - accuracy: 0.7403\n"
     ]
    }
   ],
   "source": [
    "hist3 = model.fit(X_train, Y_train, batch_size=16, epochs=100, shuffle=True, verbose=2)"
   ]
  },
  {
   "cell_type": "code",
   "execution_count": 93,
   "metadata": {},
   "outputs": [],
   "source": [
    "val4 = hist3.history['accuracy'][99]"
   ]
  },
  {
   "cell_type": "code",
   "execution_count": 70,
   "metadata": {},
   "outputs": [
    {
     "data": {
      "image/png": "[encoded data removed]",
      "text/plain": [
       "<Figure size 1440x720 with 1 Axes>"
      ]
     },
     "metadata": {
      "needs_background": "light"
     },
     "output_type": "display_data"
    }
   ],
   "source": [
    "import matplotlib.pyplot as plt\n",
    "\n",
    "x=hist3\n",
    "plt.figure(figsize=(20,10))\n",
    "plt.subplot(1, 2, 1)\n",
    "plt.suptitle('Optimizer : adam', fontsize=10)\n",
    "plt.ylabel('Loss', fontsize=16)\n",
    "plt.plot(x.history['loss'], label='Training Loss')\n",
    "plt.plot(x.history['accuracy'], label='Training Accuracy')\n",
    "plt.show()"
   ]
  },
  {
   "cell_type": "markdown",
   "metadata": {},
   "source": [
    "# CNN with 2 FullyConnected Layer "
   ]
  },
  {
   "cell_type": "code",
   "execution_count": 77,
   "metadata": {},
   "outputs": [],
   "source": [
    "model = Sequential()\n",
    "model.add(Convolution2D(32, 3, 3, input_shape = (64, 64, 3), activation = 'relu'))\n",
    "model.add(MaxPooling2D(pool_size = (2, 2)))\n",
    "model.add(Convolution2D(32, 3, 3, activation = 'relu'))\n",
    "model.add(MaxPooling2D(pool_size = (2, 2)))\n",
    "model.add(Convolution2D(filters = 16, kernel_size = (3,3),padding = 'Same', \n",
    "                 activation ='relu'))\n",
    "#model.add(MaxPooling2D(pool_size=(2,2), strides=(2,2)))\n",
    "model.add(Dropout(0.25))\n",
    "model.add(Convolution2D(filters = 16, kernel_size = (3,3),padding = 'Same', \n",
    "                 activation ='relu'))\n",
    "#model.add(MaxPooling2D(pool_size=(2,2), strides=(2,2)))\n",
    "model.add(Dropout(0.25))\n",
    "model.add(Convolution2D(filters = 8, kernel_size = (3,3),padding = 'Same', \n",
    "                 activation ='relu'))\n",
    "#model.add(MaxPooling2D(pool_size=(2,2), strides=(2,2)))\n",
    "model.add(Dropout(0.25))\n",
    "model.add(Convolution2D(filters = 4, kernel_size = (3,3),padding = 'Same', \n",
    "                 activation ='relu'))\n",
    "#model.add(MaxPooling2D(pool_size=(2,2), strides=(2,2)))\n",
    "model.add(Dropout(0.25))\n",
    "model.add(Flatten())\n",
    "\n",
    "model.add(Dropout(0.25))\n",
    "model.add(Flatten())\n",
    "model.add(Dense(units = 256, activation = 'relu'))\n",
    "model.add(Dense(units = Y_train.shape[1], activation = 'softmax'))\n"
   ]
  },
  {
   "cell_type": "code",
   "execution_count": 80,
   "metadata": {},
   "outputs": [
    {
     "name": "stdout",
     "output_type": "stream",
     "text": [
      "Model: \"sequential_19\"\n",
      "_________________________________________________________________\n",
      "Layer (type)                 Output Shape              Param #   \n",
      "=================================================================\n",
      "conv2d_50 (Conv2D)           (None, 21, 21, 32)        896       \n",
      "_________________________________________________________________\n",
      "max_pooling2d_29 (MaxPooling (None, 10, 10, 32)        0         \n",
      "_________________________________________________________________\n",
      "conv2d_51 (Conv2D)           (None, 3, 3, 32)          9248      \n",
      "_________________________________________________________________\n",
      "max_pooling2d_30 (MaxPooling (None, 1, 1, 32)          0         \n",
      "_________________________________________________________________\n",
      "conv2d_52 (Conv2D)           (None, 1, 1, 16)          4624      \n",
      "_________________________________________________________________\n",
      "dropout_17 (Dropout)         (None, 1, 1, 16)          0         \n",
      "_________________________________________________________________\n",
      "conv2d_53 (Conv2D)           (None, 1, 1, 16)          2320      \n",
      "_________________________________________________________________\n",
      "dropout_18 (Dropout)         (None, 1, 1, 16)          0         \n",
      "_________________________________________________________________\n",
      "conv2d_54 (Conv2D)           (None, 1, 1, 8)           1160      \n",
      "_________________________________________________________________\n",
      "dropout_19 (Dropout)         (None, 1, 1, 8)           0         \n",
      "_________________________________________________________________\n",
      "conv2d_55 (Conv2D)           (None, 1, 1, 4)           292       \n",
      "_________________________________________________________________\n",
      "dropout_20 (Dropout)         (None, 1, 1, 4)           0         \n",
      "_________________________________________________________________\n",
      "flatten_8 (Flatten)          (None, 4)                 0         \n",
      "_________________________________________________________________\n",
      "dropout_21 (Dropout)         (None, 4)                 0         \n",
      "_________________________________________________________________\n",
      "flatten_9 (Flatten)          (None, 4)                 0         \n",
      "_________________________________________________________________\n",
      "dense_20 (Dense)             (None, 256)               1280      \n",
      "_________________________________________________________________\n",
      "dense_21 (Dense)             (None, 1126)              289382    \n",
      "=================================================================\n",
      "Total params: 309,202\n",
      "Trainable params: 309,202\n",
      "Non-trainable params: 0\n",
      "_________________________________________________________________\n",
      "None\n"
     ]
    }
   ],
   "source": [
    "print(model.summary())\n",
    "model.compile(optimizer = 'adam', loss = 'binary_crossentropy')"
   ]
  },
  {
   "cell_type": "code",
   "execution_count": 82,
   "metadata": {},
   "outputs": [
    {
     "name": "stdout",
     "output_type": "stream",
     "text": [
      "Epoch 1/10\n",
      "352/352 - 1s - loss: 0.0071\n",
      "Epoch 2/10\n",
      "352/352 - 1s - loss: 0.0071\n",
      "Epoch 3/10\n",
      "352/352 - 1s - loss: 0.0071\n",
      "Epoch 4/10\n",
      "352/352 - 1s - loss: 0.0071\n",
      "Epoch 5/10\n",
      "352/352 - 1s - loss: 0.0071\n",
      "Epoch 6/10\n",
      "352/352 - 1s - loss: 0.0071\n",
      "Epoch 7/10\n",
      "352/352 - 1s - loss: 0.0071\n",
      "Epoch 8/10\n",
      "352/352 - 1s - loss: 0.0071\n",
      "Epoch 9/10\n",
      "352/352 - 1s - loss: 0.0071\n",
      "Epoch 10/10\n",
      "352/352 - 1s - loss: 0.0071\n"
     ]
    }
   ],
   "source": [
    "hist4 = model.fit(X_train, Y_train, batch_size=16, epochs=10, shuffle=True, verbose=2)"
   ]
  },
  {
   "cell_type": "code",
   "execution_count": 89,
   "metadata": {},
   "outputs": [],
   "source": [
    "val5 = 1 - hist4.history['loss'][9]"
   ]
  },
  {
   "cell_type": "code",
   "execution_count": 83,
   "metadata": {},
   "outputs": [
    {
     "data": {
      "image/png": "[encoded data removed]",
      "text/plain": [
       "<Figure size 1440x720 with 1 Axes>"
      ]
     },
     "metadata": {
      "needs_background": "light"
     },
     "output_type": "display_data"
    }
   ],
   "source": [
    "import matplotlib.pyplot as plt\n",
    "\n",
    "x=hist4\n",
    "plt.figure(figsize=(20,10))\n",
    "plt.subplot(1, 2, 1)\n",
    "plt.suptitle('Optimizer : adam', fontsize=10)\n",
    "plt.ylabel('Loss', fontsize=16)\n",
    "plt.plot(x.history['loss'], label='Training Loss')\n",
    "plt.show()"
   ]
  },
  {
   "cell_type": "markdown",
   "metadata": {},
   "source": [
    "# Comparison"
   ]
  },
  {
   "cell_type": "code",
   "execution_count": 96,
   "metadata": {},
   "outputs": [],
   "source": [
    "score = [val1,val2,val3,val4,val5]"
   ]
  },
  {
   "cell_type": "code",
   "execution_count": 97,
   "metadata": {},
   "outputs": [
    {
     "name": "stdout",
     "output_type": "stream",
     "text": [
      "[0 1 2 3 4]\n",
      "[0.9928679503500462, 0.9939555525779724, 0.9857777953147888, 0.7402666807174683, 0.9928694646805525]\n"
     ]
    }
   ],
   "source": [
    "#make variabel for save the result and to show it\n",
    "classifier = ('Autoencoder CNN','miniVGG','miniGoogleNet','miniAlexNet','CNN + 2 FullyConnected')\n",
    "y_pos = np.arange(len(classifier))\n",
    "print(y_pos)\n",
    "print(score)"
   ]
  },
  {
   "cell_type": "code",
   "execution_count": 98,
   "metadata": {},
   "outputs": [
    {
     "data": {
      "image/png": "[encoded data removed]",
      "text/plain": [
       "<Figure size 432x288 with 1 Axes>"
      ]
     },
     "metadata": {
      "needs_background": "light"
     },
     "output_type": "display_data"
    }
   ],
   "source": [
    "import matplotlib.pyplot as plt2\n",
    "plt2.barh(y_pos, score, align='center', alpha=0.5,color='blue')\n",
    "plt2.yticks(y_pos, classifier)\n",
    "plt2.xlabel('Score')\n",
    "plt2.title('Classification Performance')\n",
    "plt2.show()"
   ]
  },
  {
   "cell_type": "code",
   "execution_count": 1,
   "metadata": {},
   "outputs": [],
   "source": [
    "import numpy as np\n",
    "import pandas as pd\n",
    "from Recipe import *\n",
    "import os\n",
    "import cv2"
   ]
  },
  {
   "cell_type": "code",
   "execution_count": 7,
   "metadata": {},
   "outputs": [],
   "source": [
    "from keras.utils.np_utils import to_categorical\n",
    "from tensorflow.keras.layers import  MaxPooling2D\n",
    "from tensorflow.keras.layers import Dense, Dropout, Activation, Flatten\n",
    "from tensorflow.keras.layers import Convolution2D\n",
    "from tensorflow.keras.models import Sequential\n",
    "from tensorflow.keras.models import model_from_json"
   ]
  },
  {
   "cell_type": "code",
   "execution_count": 17,
   "metadata": {},
   "outputs": [],
   "source": [
    "import ast"
   ]
  },
  {
   "cell_type": "code",
   "execution_count": 18,
   "metadata": {},
   "outputs": [],
   "source": [
    "recipe_list = []"
   ]
  },
  {
   "cell_type": "code",
   "execution_count": 20,
   "metadata": {},
   "outputs": [
    {
     "name": "stdout",
     "output_type": "stream",
     "text": [
      "indian chai hot chocolate\n"
     ]
    }
   ],
   "source": [
    "recipe_list.clear()\n",
    "dataset = pd.read_csv('Dataset/core-data_recipe.csv',nrows=1000)\n",
    "for i in range(len(dataset)):\n",
    "    r_id = dataset._get_value(i, 'recipe_id')\n",
    "    r_name = dataset._get_value(i, 'recipe_name')\n",
    "    ingredients = dataset._get_value(i, 'ingredients')\n",
    "    nutritions = dataset._get_value(i, 'nutritions')\n",
    "    cooking = ast.literal_eval(dataset._get_value(i, 'cooking_directions')).get('directions')\n",
    "    r_name = r_name.strip().lower()\n",
    "    obj = Recipe()\n",
    "    obj.setRecipeID(r_id)\n",
    "    obj.setName(r_name)\n",
    "    obj.setIngredients(ingredients)\n",
    "    obj.setNutritions(nutritions)\n",
    "    obj.setCooking(cooking)\n",
    "    recipe_list.append(obj)\n",
    "indian = np.load('index.txt.npy',allow_pickle=True)\n",
    "for i in range(len(indian)):\n",
    "    recipe_list.append(indian[i])\n",
    "obj = recipe_list[len(recipe_list)-1]\n",
    "print(obj.getName())"
   ]
  },
  {
   "cell_type": "code",
   "execution_count": 9,
   "metadata": {},
   "outputs": [
    {
     "name": "stdout",
     "output_type": "stream",
     "text": [
      "Model: \"sequential_1\"\n",
      "_________________________________________________________________\n",
      "Layer (type)                 Output Shape              Param #   \n",
      "=================================================================\n",
      "conv2d_1 (Conv2D)            (None, 62, 62, 32)        896       \n",
      "_________________________________________________________________\n",
      "max_pooling2d_1 (MaxPooling2 (None, 31, 31, 32)        0         \n",
      "_________________________________________________________________\n",
      "conv2d_2 (Conv2D)            (None, 29, 29, 32)        9248      \n",
      "_________________________________________________________________\n",
      "max_pooling2d_2 (MaxPooling2 (None, 14, 14, 32)        0         \n",
      "_________________________________________________________________\n",
      "flatten_1 (Flatten)          (None, 6272)              0         \n",
      "_________________________________________________________________\n",
      "dense_1 (Dense)              (None, 256)               1605888   \n",
      "_________________________________________________________________\n",
      "dense_2 (Dense)              (None, 1126)              289382    \n",
      "=================================================================\n",
      "Total params: 1,905,414\n",
      "Trainable params: 1,905,414\n",
      "Non-trainable params: 0\n",
      "_________________________________________________________________\n",
      "None\n"
     ]
    }
   ],
   "source": [
    "global classifier\n",
    "if os.path.exists('model/1model.json'):\n",
    "    with open('model/1model.json', \"r\") as json_file:\n",
    "        loaded_model_json = json_file.read()\n",
    "        classifier = model_from_json(loaded_model_json)\n",
    "    classifier.load_weights(\"model/1model_weights.h5\")\n",
    "    #classifier._make_predict_function()  \n",
    "    print(classifier.summary())"
   ]
  },
  {
   "cell_type": "code",
   "execution_count": 10,
   "metadata": {},
   "outputs": [],
   "source": [
    "image = cv2.imread('testImages/1.jpg')"
   ]
  },
  {
   "cell_type": "code",
   "execution_count": 11,
   "metadata": {},
   "outputs": [
    {
     "name": "stdout",
     "output_type": "stream",
     "text": [
      "WARNING:tensorflow:AutoGraph could not transform <function Model.make_predict_function.<locals>.predict_function at 0x000001F7C75C1B88> and will run it as-is.\n",
      "Please report this to the TensorFlow team. When filing the bug, set the verbosity to 10 (on Linux, `export AUTOGRAPH_VERBOSITY=10`) and attach the full output.\n",
      "Cause: 'arguments' object has no attribute 'posonlyargs'\n",
      "To silence this warning, decorate the function with @tf.autograph.experimental.do_not_convert\n",
      "WARNING: AutoGraph could not transform <function Model.make_predict_function.<locals>.predict_function at 0x000001F7C75C1B88> and will run it as-is.\n",
      "Please report this to the TensorFlow team. When filing the bug, set the verbosity to 10 (on Linux, `export AUTOGRAPH_VERBOSITY=10`) and attach the full output.\n",
      "Cause: 'arguments' object has no attribute 'posonlyargs'\n",
      "To silence this warning, decorate the function with @tf.autograph.experimental.do_not_convert\n"
     ]
    }
   ],
   "source": [
    "img = cv2.resize(image, (64,64))\n",
    "im2arr = np.array(img)\n",
    "im2arr = im2arr.reshape(1,64,64,3)\n",
    "img = np.asarray(im2arr)\n",
    "img = img.astype('float32')\n",
    "img = img/255\n",
    "preds = classifier.predict(img)"
   ]
  },
  {
   "cell_type": "code",
   "execution_count": 12,
   "metadata": {},
   "outputs": [
    {
     "name": "stdout",
     "output_type": "stream",
     "text": [
      "1122\n"
     ]
    }
   ],
   "source": [
    "predict = np.argmax(preds)\n",
    "if predict > 0:\n",
    "    predict = predict - 1\n",
    "print(predict)"
   ]
  },
  {
   "cell_type": "code",
   "execution_count": 21,
   "metadata": {},
   "outputs": [],
   "source": [
    "obj = recipe_list[predict]"
   ]
  },
  {
   "cell_type": "code",
   "execution_count": 22,
   "metadata": {},
   "outputs": [
    {
     "data": {
      "text/plain": [
       "'indian vegetable rice'"
      ]
     },
     "execution_count": 22,
     "metadata": {},
     "output_type": "execute_result"
    }
   ],
   "source": [
    "obj.getName()"
   ]
  },
  {
   "cell_type": "code",
   "execution_count": 23,
   "metadata": {},
   "outputs": [
    {
     "data": {
      "text/plain": [
       "'vegetable oil^onion^ground cumin^Basmati rice^water^salt^garam masala^frozen mixed vegetables'"
      ]
     },
     "execution_count": 23,
     "metadata": {},
     "output_type": "execute_result"
    }
   ],
   "source": [
    "obj.getIngredients()"
   ]
  },
  {
   "cell_type": "code",
   "execution_count": 24,
   "metadata": {},
   "outputs": [
    {
     "data": {
      "text/plain": [
       "'Prep\\n10 m\\nCook\\n40 m\\nReady In\\n50 m\\nIn a large pan heat oil over medium heat and saute onions and cumin until onions are tender, but not browned. Rinse the rise several times and drain well. Add the rice to the pan with the onions and pour in the 2 cups of water. Stir in salt, garam masala and vegetables. Cover the pan and increase the heat to high.\\nBring the mixture to a boil and then reduce the heat to low, keeping the rice covered at all times. After cooking for about 10 minutes, gently stir the rice to distribute the spices evenly. Cook 25 to 30 minutes, or until all of the water has evaporated and the rice is tender.'"
      ]
     },
     "execution_count": 24,
     "metadata": {},
     "output_type": "execute_result"
    }
   ],
   "source": [
    "obj.getCooking()"
   ]
  },
  {
   "cell_type": "code",
   "execution_count": 25,
   "metadata": {},
   "outputs": [
    {
     "data": {
      "text/plain": [
       "\"{u'niacin': {u'hasCompleteData': False, u'name': u'Niacin Equivalents', u'amount': 1.377288, u'percentDailyValue': u'11', u'displayValue': u'1', u'unit': u'mg'}, u'sugars': {u'hasCompleteData': False, u'name': u'Sugars', u'amount': 3.643998, u'percentDailyValue': u'0', u'displayValue': u'3.6', u'unit': u'g'}, u'sodium': {u'hasCompleteData': False, u'name': u'Sodium', u'amount': 904.5907, u'percentDailyValue': u'36', u'displayValue': u'905', u'unit': u'mg'}, u'carbohydrates': {u'hasCompleteData': False, u'name': u'Carbohydrates', u'amount': 87.06129, u'percentDailyValue': u'28', u'displayValue': u'87.1', u'unit': u'g'}, u'vitaminB6': {u'hasCompleteData': False, u'name': u'Vitamin B6', u'amount': 0.1287863, u'percentDailyValue': u'8', u'displayValue': u'< 1', u'unit': u'mg'}, u'calories': {u'hasCompleteData': False, u'name': u'Calories', u'amount': 514.7228, u'percentDailyValue': u'26', u'displayValue': u'515', u'unit': u'kcal'}, u'thiamin': {u'hasCompleteData': False, u'name': u'Thiamin', u'amount': 0.07847325, u'percentDailyValue': u'8', u'displayValue': u'< 1', u'unit': u'mg'}, u'fat': {u'hasCompleteData': False, u'name': u'Fat', u'amount': 15.39086, u'percentDailyValue': u'24', u'displayValue': u'15.4', u'unit': u'g'}, u'folate': {u'hasCompleteData': False, u'name': u'Folate', u'amount': 26.737, u'percentDailyValue': u'15', u'displayValue': u'27', u'unit': u'mcg'}, u'caloriesFromFat': {u'hasCompleteData': False, u'name': u'Calories from Fat', u'amount': 138.5178, u'percentDailyValue': u'-', u'displayValue': u'139', u'unit': u'kcal'}, u'calcium': {u'hasCompleteData': False, u'name': u'Calcium', u'amount': 41.4942, u'percentDailyValue': u'5', u'displayValue': u'41', u'unit': u'mg'}, u'fiber': {u'hasCompleteData': False, u'name': u'Dietary Fiber', u'amount': 4.273053, u'percentDailyValue': u'17', u'displayValue': u'4.3', u'unit': u'g'}, u'magnesium': {u'hasCompleteData': False, u'name': u'Magnesium', u'amount': 23.49979, u'percentDailyValue': u'8', u'displayValue': u'23', u'unit': u'mg'}, u'iron': {u'hasCompleteData': False, u'name': u'Iron', u'amount': 1.507373, u'percentDailyValue': u'15', u'displayValue': u'2', u'unit': u'mg'}, u'cholesterol': {u'hasCompleteData': False, u'name': u'Cholesterol', u'amount': 0.0, u'percentDailyValue': u'0', u'displayValue': u'0', u'unit': u'mg'}, u'protein': {u'hasCompleteData': False, u'name': u'Protein', u'amount': 9.885675, u'percentDailyValue': u'20', u'displayValue': u'9.9', u'unit': u'g'}, u'vitaminA': {u'hasCompleteData': False, u'name': u'Vitamin A - IU', u'amount': 3113.377, u'percentDailyValue': u'62', u'displayValue': u'3113', u'unit': u'IU'}, u'potassium': {u'hasCompleteData': False, u'name': u'Potassium', u'amount': 231.2857, u'percentDailyValue': u'6', u'displayValue': u'231', u'unit': u'mg'}, u'saturatedFat': {u'hasCompleteData': False, u'name': u'Saturated Fat', u'amount': 2.622558, u'percentDailyValue': u'13', u'displayValue': u'2.6', u'unit': u'g'}, u'vitaminC': {u'hasCompleteData': False, u'name': u'Vitamin C', u'amount': 9.919965, u'percentDailyValue': u'17', u'displayValue': u'10', u'unit': u'mg'}}\\n\""
      ]
     },
     "execution_count": 25,
     "metadata": {},
     "output_type": "execute_result"
    }
   ],
   "source": [
    "obj.getNutritions()"
   ]
  },
  {
   "cell_type": "code",
   "execution_count": null,
   "metadata": {},
   "outputs": [],
   "source": []
  }
 ],
 "metadata": {
  "kernelspec": {
   "display_name": "Python 3",
   "language": "python",
   "name": "python3"
  },
  "language_info": {
   "codemirror_mode": {
    "name": "ipython",
    "version": 3
   },
   "file_extension": ".py",
   "mimetype": "text/x-python",
   "name": "python",
   "nbconvert_exporter": "python",
   "pygments_lexer": "ipython3",
   "version": "3.7.4"
  }
 },
 "nbformat": 4,
 "nbformat_minor": 2
}
